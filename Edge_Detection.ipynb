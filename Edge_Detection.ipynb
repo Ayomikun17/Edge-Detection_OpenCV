{
 "cells": [
  {
   "cell_type": "code",
   "execution_count": 60,
   "id": "11e9dab5-72e0-4b94-8412-c15a43751941",
   "metadata": {},
   "outputs": [],
   "source": [
    "# Import dependencies\n",
    "import cv2"
   ]
  },
  {
   "cell_type": "code",
   "execution_count": 51,
   "id": "9c3b543d-188b-4026-9631-829740d3f849",
   "metadata": {},
   "outputs": [],
   "source": [
    "# load image\n",
    "img = cv2.imread('cars.jpg')"
   ]
  },
  {
   "cell_type": "code",
   "execution_count": 52,
   "id": "a10511a5-f3b1-45dc-bc3e-5739145f986b",
   "metadata": {
    "collapsed": true,
    "jupyter": {
     "outputs_hidden": true,
     "source_hidden": true
    },
    "tags": []
   },
   "outputs": [
    {
     "data": {
      "text/plain": [
       "array([[[130, 122, 105],\n",
       "        [128, 121, 101],\n",
       "        [142, 134, 105],\n",
       "        ...,\n",
       "        [241, 234, 239],\n",
       "        [241, 234, 239],\n",
       "        [241, 234, 239]],\n",
       "\n",
       "       [[129, 121, 104],\n",
       "        [129, 122, 102],\n",
       "        [140, 134, 105],\n",
       "        ...,\n",
       "        [241, 234, 239],\n",
       "        [241, 234, 239],\n",
       "        [241, 234, 239]],\n",
       "\n",
       "       [[126, 119, 102],\n",
       "        [130, 123, 103],\n",
       "        [143, 137, 108],\n",
       "        ...,\n",
       "        [241, 234, 239],\n",
       "        [241, 234, 239],\n",
       "        [241, 234, 239]],\n",
       "\n",
       "       ...,\n",
       "\n",
       "       [[ 99,  91,  74],\n",
       "        [ 98,  90,  73],\n",
       "        [ 99,  92,  75],\n",
       "        ...,\n",
       "        [122, 112, 118],\n",
       "        [148, 138, 144],\n",
       "        [166, 157, 160]],\n",
       "\n",
       "       [[101,  93,  76],\n",
       "        [ 99,  91,  74],\n",
       "        [100,  93,  76],\n",
       "        ...,\n",
       "        [138, 128, 134],\n",
       "        [160, 150, 156],\n",
       "        [165, 156, 159]],\n",
       "\n",
       "       [[ 97,  89,  72],\n",
       "        [ 97,  89,  72],\n",
       "        [100,  93,  76],\n",
       "        ...,\n",
       "        [148, 138, 144],\n",
       "        [162, 152, 158],\n",
       "        [161, 152, 155]]], dtype=uint8)"
      ]
     },
     "execution_count": 52,
     "metadata": {},
     "output_type": "execute_result"
    }
   ],
   "source": [
    "img"
   ]
  },
  {
   "cell_type": "code",
   "execution_count": 53,
   "id": "ece1e601-dd5e-4fb6-9894-2617e36dc3a0",
   "metadata": {},
   "outputs": [
    {
     "data": {
      "text/plain": [
       "(853, 1280, 3)"
      ]
     },
     "execution_count": 53,
     "metadata": {},
     "output_type": "execute_result"
    }
   ],
   "source": [
    "img.shape"
   ]
  },
  {
   "cell_type": "code",
   "execution_count": 54,
   "id": "2b81faed-1c6f-4165-9663-3bb060ae094a",
   "metadata": {},
   "outputs": [],
   "source": [
    "# Resizing the image by dividing its width and height by 2\n",
    "resized_img = cv2.resize(img, (int(img.shape[1]/2) , int(img.shape[0]/2)))\n",
    "# View the image using OpenCV\n",
    "cv2.imshow('Image view', resized_img)\n",
    "cv2.waitKey(0) # press any key to close image\n",
    "cv2.destroyAllWindows()"
   ]
  },
  {
   "cell_type": "markdown",
   "id": "c99af979-33b2-433e-b758-44ce41b23fb2",
   "metadata": {
    "tags": []
   },
   "source": [
    "### Canny Edge Detection Algorithm"
   ]
  },
  {
   "cell_type": "code",
   "execution_count": 55,
   "id": "2cfa6f3a-b410-4d83-a345-5f59497ba60b",
   "metadata": {
    "tags": []
   },
   "outputs": [],
   "source": [
    "# Wider thresholds gives you more edges\n",
    "# Applying blur to remove the noise in the image\n",
    "gray = cv2.cvtColor(img, cv2.COLOR_BGR2GRAY) # Converting to gray scale\n",
    "blur = cv2.GaussianBlur(gray, (5,5), 0)\n",
    "canny = cv2.Canny(blur, threshold1 = 180, threshold2 = 200)"
   ]
  },
  {
   "cell_type": "code",
   "execution_count": 59,
   "id": "6efcbfcc-4864-4ae3-8e22-85cc4b5ba0b9",
   "metadata": {},
   "outputs": [],
   "source": [
    "# Resizing the image by dividing its width and height by 2\n",
    "resized_img = cv2.resize(gray, (int(img.shape[1]/2) , int(img.shape[0]/2)))\n",
    "# View the image using OpenCV\n",
    "cv2.imshow('Image view', resized_img)\n",
    "cv2.waitKey(0) # press any key to close image\n",
    "cv2.destroyAllWindows()"
   ]
  },
  {
   "cell_type": "markdown",
   "id": "e01f04df-1b59-4ba3-8070-af8144e8f643",
   "metadata": {},
   "source": [
    "### Export Edges"
   ]
  },
  {
   "cell_type": "code",
   "execution_count": 57,
   "id": "bd50aea3-60a8-4abc-9abc-980b485136df",
   "metadata": {},
   "outputs": [
    {
     "data": {
      "text/plain": [
       "True"
      ]
     },
     "execution_count": 57,
     "metadata": {},
     "output_type": "execute_result"
    }
   ],
   "source": [
    "# Saving the image with edges\n",
    "cv2.imwrite('edges.jpg', canny)"
   ]
  }
 ],
 "metadata": {
  "kernelspec": {
   "display_name": "tensorflowenv",
   "language": "python",
   "name": "tensorflowenv"
  },
  "language_info": {
   "codemirror_mode": {
    "name": "ipython",
    "version": 3
   },
   "file_extension": ".py",
   "mimetype": "text/x-python",
   "name": "python",
   "nbconvert_exporter": "python",
   "pygments_lexer": "ipython3",
   "version": "3.9.7"
  }
 },
 "nbformat": 4,
 "nbformat_minor": 5
}
